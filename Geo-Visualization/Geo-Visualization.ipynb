{
 "cells": [
  {
   "cell_type": "markdown",
   "metadata": {},
   "source": [
    "# Geo-Visualization\n",
    "\n",
    "**Here in this notebook we will be exploring the world of Geo-Visualization with the help of folium**"
   ]
  },
  {
   "cell_type": "code",
   "execution_count": null,
   "metadata": {},
   "outputs": [],
   "source": [
    "import folium\n",
    "\n",
    "import pandas as pd"
   ]
  },
  {
   "cell_type": "code",
   "execution_count": null,
   "metadata": {},
   "outputs": [],
   "source": [
    "# Vizualizing Delhi\n",
    "loc = [28.6139, 77.2090]\n",
    "Delhi_map = folium.Map(loc, zoom_start = 12)\n",
    "Delhi_map"
   ]
  },
  {
   "cell_type": "code",
   "execution_count": null,
   "metadata": {},
   "outputs": [],
   "source": [
    "# Making a Dictionary of Monuments in Delhi\n",
    "monuments = {'Monument': ['Qutub Minar', 'India Gate', 'Red Fort', \n",
    "                          'Jantar Mantar'], 'Latitude':[28.5245,28.6129,28.6562,28.6271], \n",
    "             'Longitude': [ 77.1855,77.2295,77.2410,77.2166]}\n",
    "\n",
    "df = pd.DataFrame(monuments)\n",
    "df.head()"
   ]
  },
  {
   "cell_type": "code",
   "execution_count": null,
   "metadata": {},
   "outputs": [],
   "source": [
    "for i, row in df.iterrows():\n",
    "    folium.Marker(location=[row[1], row[2]],\n",
    "    popup=row[0],\n",
    "    icon=folium.Icon(color ='red', icon='info-sign')).add_to(Delhi_map)\n",
    "Delhi_map"
   ]
  },
  {
   "cell_type": "code",
   "execution_count": null,
   "metadata": {},
   "outputs": [],
   "source": []
  },
  {
   "cell_type": "code",
   "execution_count": null,
   "metadata": {},
   "outputs": [],
   "source": []
  }
 ],
 "metadata": {
  "kernelspec": {
   "display_name": "Python 3",
   "language": "python",
   "name": "python3"
  },
  "language_info": {
   "codemirror_mode": {
    "name": "ipython",
    "version": 3
   },
   "file_extension": ".py",
   "mimetype": "text/x-python",
   "name": "python",
   "nbconvert_exporter": "python",
   "pygments_lexer": "ipython3",
   "version": "3.7.6"
  }
 },
 "nbformat": 4,
 "nbformat_minor": 4
}
